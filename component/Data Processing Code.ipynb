{
 "cells": [
  {
   "cell_type": "code",
   "execution_count": 2,
   "metadata": {},
   "outputs": [],
   "source": [
    "import librosa\n",
    "import numpy as np\n",
    "\n",
    "import tensorflow as tf\n",
    "from tensorflow.keras.models import Sequential, Model, load_model\n",
    "\n",
    "from tensorflow.keras.layers import Conv1D, Conv2D, SeparableConv1D, MaxPooling1D, MaxPooling2D\n",
    "from tensorflow.keras.layers import Input, add, Flatten, Dense, BatchNormalization, Dropout, LSTM, GRU\n",
    "from tensorflow.keras.layers import GlobalMaxPooling1D, GlobalMaxPooling2D, Activation, LeakyReLU, ReLU\n",
    "\n",
    "val=[]\n",
    "classes = [\"COPD\" ,\"Bronchiolitis \", \"Pneumoina\", \"URTI\", \"Healthy\"]\n",
    "\n",
    "# ADD THE SOUND FILE OVER HERE\n",
    "sound_file = 'uploads/recordingv1.wav'\n",
    "features = 52"
   ]
  },
  {
   "cell_type": "code",
   "execution_count": 3,
   "metadata": {},
   "outputs": [],
   "source": [
    "Input_Sample = Input(shape=(1,52))\n",
    "\n",
    "model_conv = Conv1D(256, kernel_size=5, strides=1, padding='same', activation='relu')(Input_Sample)\n",
    "model_conv = MaxPooling1D(pool_size=2, strides = 2, padding = 'same')(model_conv)\n",
    "model_conv = BatchNormalization()(model_conv)\n",
    "\n",
    "model_conv = Conv1D(512, kernel_size=5, strides=1, padding='same', activation='relu')(model_conv)\n",
    "model_conv = MaxPooling1D(pool_size=2, strides = 2, padding = 'same')(model_conv)\n",
    "model_conv = BatchNormalization()(model_conv)\n",
    "\n",
    "model_2_1 = GRU(32,return_sequences=True,activation='tanh',go_backwards=True)(model_conv)\n",
    "model_2 = GRU(128,return_sequences=True, activation='tanh',go_backwards=True)(model_2_1)\n",
    "\n",
    "model_3 = GRU(64,return_sequences=True,activation='tanh',go_backwards=True)(model_conv)\n",
    "model_3 = GRU(128,return_sequences=True, activation='tanh',go_backwards=True)(model_3)\n",
    "\n",
    "model_x = GRU(64,return_sequences=True,activation='tanh',go_backwards=True)(model_conv)\n",
    "model_x = GRU(128,return_sequences=True, activation='tanh',go_backwards=True)(model_x)\n",
    "\n",
    "model_add_1 = add([model_3,model_2,model_x])\n",
    "\n",
    "model_5 = GRU(128,return_sequences=True,activation='tanh',go_backwards=True)(model_add_1)\n",
    "model_5 = GRU(32,return_sequences=True, activation='tanh',go_backwards=True)(model_5)\n",
    "\n",
    "model_6 = GRU(64,return_sequences=True,activation='tanh',go_backwards=True)(model_add_1)\n",
    "model_6 = GRU(32,return_sequences=True, activation='tanh',go_backwards=True)(model_6)\n",
    "\n",
    "model_add_2 = add([model_5,model_6,model_2_1])\n",
    "\n",
    "\n",
    "model_7 = Dense(32, activation=None)(model_add_2)\n",
    "model_7 = LeakyReLU()(model_7)\n",
    "model_7 = Dense(128, activation=None)(model_7)\n",
    "model_7 = LeakyReLU()(model_7)\n",
    "\n",
    "model_9 = Dense(64, activation=None)(model_add_2)\n",
    "model_9 = LeakyReLU()(model_9)\n",
    "model_9 = Dense(128, activation=None)(model_9)\n",
    "model_9 = LeakyReLU()(model_9)\n",
    "\n",
    "model_add_3 = add([model_7,model_9])\n",
    "\n",
    "model_10 = Dense(64, activation=None)(model_add_3)\n",
    "model_10 = LeakyReLU()(model_10)\n",
    "\n",
    "model_10 = Dense(32, activation=None)(model_10)\n",
    "model_10 = LeakyReLU()(model_10)\n",
    "\n",
    "model_10 = Dense(5, activation=\"softmax\")(model_10)\n",
    "\n",
    "gru_model = Model(inputs=Input_Sample, outputs = model_10)\n",
    "\n",
    "optimiser = tf.keras.optimizers.Adam(learning_rate = 0.0001)\n",
    "gru_model.compile(optimizer=optimiser, loss='categorical_crossentropy',metrics=['accuracy'])\n",
    "\n",
    "gru_model.load_weights('GRU_Model.h5')"
   ]
  },
  {
   "cell_type": "code",
   "execution_count": 4,
   "metadata": {},
   "outputs": [],
   "source": [
    "data_x, sampling_rate = librosa.load(sound_file,res_type='kaiser_fast')\n",
    "mfccs = np.mean(librosa.feature.mfcc(y=data_x, sr=sampling_rate, n_mfcc=features).T,axis=0)\n",
    "val.append(mfccs)\n",
    "val = np.expand_dims(val,axis=1)"
   ]
  },
  {
   "cell_type": "code",
   "execution_count": 5,
   "metadata": {},
   "outputs": [
    {
     "name": "stdout",
     "output_type": "stream",
     "text": [
      "\u001b[1m1/1\u001b[0m \u001b[32m━━━━━━━━━━━━━━━━━━━━\u001b[0m\u001b[37m\u001b[0m \u001b[1m1s\u001b[0m 1s/step\n"
     ]
    },
    {
     "data": {
      "text/plain": [
       "'COPD'"
      ]
     },
     "execution_count": 5,
     "metadata": {},
     "output_type": "execute_result"
    }
   ],
   "source": [
    "classes[np.argmax(gru_model.predict(val))]\n",
    "print()"
   ]
  }
 ],
 "metadata": {
  "kernelspec": {
   "display_name": "tensorflow",
   "language": "python",
   "name": "python3"
  },
  "language_info": {
   "codemirror_mode": {
    "name": "ipython",
    "version": 3
   },
   "file_extension": ".py",
   "mimetype": "text/x-python",
   "name": "python",
   "nbconvert_exporter": "python",
   "pygments_lexer": "ipython3",
   "version": "3.11.5"
  }
 },
 "nbformat": 4,
 "nbformat_minor": 2
}
